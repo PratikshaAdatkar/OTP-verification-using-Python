{
 "cells": [
  {
   "cell_type": "code",
   "execution_count": 7,
   "id": "34fa679f",
   "metadata": {},
   "outputs": [
    {
     "name": "stdout",
     "output_type": "stream",
     "text": [
      "OTP of length 6: OZZ99p\n"
     ]
    }
   ],
   "source": [
    "# import library\n",
    "import math, random\n",
    " \n",
    "# function to generate OTP\n",
    "def generateOTP() :\n",
    " \n",
    "    # Declare a string variable \n",
    "    # which stores all string\n",
    "    string = '0123456789abcdefghijklmnopqrstuvwxyzABCDEFGHIJKLMNOPQRSTUVWXYZ'\n",
    "    OTP = \"\"\n",
    "    length = len(string)\n",
    "    for i in range(6) :\n",
    "        OTP += string[math.floor(random.random() * length)]\n",
    " \n",
    "    return OTP\n",
    " \n",
    "# Driver code\n",
    "if __name__ == \"__main__\" :\n",
    "     \n",
    "    print(\"OTP of length 6:\", generateOTP())"
   ]
  },
  {
   "cell_type": "code",
   "execution_count": 8,
   "id": "a42ab91f",
   "metadata": {},
   "outputs": [
    {
     "name": "stdout",
     "output_type": "stream",
     "text": [
      "i4He7xcB8V\n"
     ]
    }
   ],
   "source": [
    "# Importing random to generate\n",
    "# random string sequence\n",
    "import random\n",
    "    \n",
    "# Importing string library function\n",
    "import string\n",
    "    \n",
    "def rand_pass(size):\n",
    "        \n",
    "    # Takes random choices from\n",
    "    # ascii_letters and digits\n",
    "    generate_pass = ''.join([random.choice( string.ascii_uppercase +\n",
    "                                            string.ascii_lowercase +\n",
    "                                            string.digits)\n",
    "                                            for n in range(size)])\n",
    "                            \n",
    "    return generate_pass\n",
    "    \n",
    "# Driver Code \n",
    "password = rand_pass(10)\n",
    "print(password)"
   ]
  }
 ],
 "metadata": {
  "kernelspec": {
   "display_name": "Python 3 (ipykernel)",
   "language": "python",
   "name": "python3"
  },
  "language_info": {
   "codemirror_mode": {
    "name": "ipython",
    "version": 3
   },
   "file_extension": ".py",
   "mimetype": "text/x-python",
   "name": "python",
   "nbconvert_exporter": "python",
   "pygments_lexer": "ipython3",
   "version": "3.9.7"
  }
 },
 "nbformat": 4,
 "nbformat_minor": 5
}
